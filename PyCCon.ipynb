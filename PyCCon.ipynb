{
 "cells": [
  {
   "cell_type": "markdown",
   "metadata": {
    "id": "bXOT9vQ-AbEr"
   },
   "source": [
    "# Python Code for Convection (PyCCon) v.2.3\n",
    "## @author: Lena Noack\n"
   ]
  },
  {
   "cell_type": "markdown",
   "metadata": {
    "id": "XOfjR_2RXHsH"
   },
   "source": [
    "v2.3 Recent Updates (May 2025):\n",
    "include restart option; allow for variable aspect ratios; include simple subduction zone set-up; include partial melting and outgassing\n"
   ]
  },
  {
   "cell_type": "markdown",
   "metadata": {
    "id": "BFgsOgaKFzTj"
   },
   "source": "# Short documentation"
  },
  {
   "cell_type": "markdown",
   "metadata": {
    "id": "xKgrVmwQB-JG"
   },
   "source": [
    "This code can be used for simple convection simulations in a 2D box or 2D sphere,\n",
    "using both thermal and chemical convection (the latter can be solved either\n",
    "with a field approach or with particles for better resolution), and can use\n",
    "temperature- or pressure-dependent viscosity (using the FK or Arrhenius approximation).\n",
    "Convection is incompresisble with the (Extended) Boussinesq approximation or compressible with TALA approximation.\n",
    "\n",
    "- main.ipynb: This is the main routine, please adapt the simulation parameters in the parameters cell below, assigning here the non-default parameter settings (default values will be overwritten)\n",
    "- solver.py: Solves the energy, mass, momentum and chemical conservation equations\n",
    "- supp_functions: Different initialization and support function, particle treatment, output measurements, and visualization (adapt as needed)\n",
    "- outgassing.py: Includes outgassing calculations to build an atmosphere\n",
    "- input_default.py: Loads the default settings and parameters, do not change"
   ]
  },
  {
   "cell_type": "markdown",
   "metadata": {
    "id": "RG6qaYQmF6dm"
   },
   "source": "## Import modules"
  },
  {
   "cell_type": "code",
   "metadata": {
    "ExecuteTime": {
     "end_time": "2025-08-08T13:06:29.216848Z",
     "start_time": "2025-08-08T13:06:29.210993Z"
    }
   },
   "source": [
    "import matplotlib.pyplot as plt\n",
    "#import modules, execution needed only once\n",
    "import numpy as np\n",
    "from supp_functions import *\n",
    "import examples # for different example parameter settings\n",
    "import convection\n"
   ],
   "outputs": [],
   "execution_count": 3
  },
  {
   "cell_type": "markdown",
   "metadata": {
    "id": "BGGHS5xwEEyg"
   },
   "source": "## Initialize and start convection simulation"
  },
  {
   "cell_type": "code",
   "metadata": {
    "ExecuteTime": {
     "end_time": "2025-08-08T13:07:31.723401Z",
     "start_time": "2025-08-08T13:06:29.250805Z"
    }
   },
   "source": [
    "data = supp_functions()               # Load default simulations values\n",
    "\n",
    "#########################################################################################\n",
    "# Change simulation parameters here to overwrite default values set in input_default.py #\n",
    "#########################################################################################\n",
    "\n",
    "SimCase = \"\" # simulate parameter cases are defined in examples.py; if none is selected, use parameters below\n",
    "             # Example simulations currently available: Melting | Plasticity | SubductionZone | Compressibility | Isoviscous\n",
    "             #                                          Arrhenius | FK |ThermoChemical | CompositionInput | TestRK | TestLateralMovement\n",
    "\n",
    "if SimCase==\"\":\n",
    "    data.geom = 0 # 0 - box, 1 - cylinder, 2 - spherical annulus\n",
    "    data.nl = 40\n",
    "    data.nr = 40\n",
    "    data.Ra = 1e4\n",
    "\n",
    "    data.plot = 'Tvuw'\n",
    "\n",
    "    data.output = 'Test/Test_box_isovisc_Ra'+str(int(data.Ra))+'_'+str(data.nl)+'x'+str(data.nr)\n",
    "\n",
    "    data.Cdt = -1 # >0 Courant criterium (~1); <0 Delta criterium (~-1)\n",
    "    data.dt_max = 1e-2\n",
    "    data.figiter = 5\n",
    "    data.figtime = 0 # every ... outputs create a new figure\n",
    "    data.nbiter = 0 # if set to zero, then use tmax\n",
    "    data.tmax = 0.3\n",
    "\n",
    "    data.snap_iter = 25\n",
    "    data.read_snap = False # Set to True to restart simulation from last-written snapshot\n",
    "\n",
    "examples.get_sim_param(data,SimCase) # only used if SimCase is set to name of pre-defined example\n",
    "\n",
    "if (data.e_gamma_T>1.0):\n",
    "  data.gamma_T = np.log(data.e_gamma_T)\n",
    "  data.gamma_p = np.log(data.e_gamma_p)\n",
    "\n",
    "#################################\n",
    "# Run the convection simulation #\n",
    "#################################\n",
    "convection.run(data)\n"
   ],
   "outputs": [
    {
     "name": "stdout",
     "output_type": "stream",
     "text": [
      "TS:    1, OI:  3, t: 1.000E-06, dt: 1.000E-06, |v|: 7.5455, |T|: 0.5000, |Nu_t/b|: 1.9491/ 1.9492, VC:    1 --   0.469s\n",
      "TS:    2, OI:  7, t: 9.976E-04, dt: 9.966E-04, |v|: 9.1208, |T|: 0.5000, |Nu_t/b|: 1.1223/ 1.1519, VC:    1 --   1.688s\n",
      "TS:    3, OI: 21, t: 6.772E-03, dt: 5.774E-03, |v|:34.5689, |T|: 0.5004, |Nu_t/b|: 1.1637/ 1.2650, VC:    1 --   4.164s\n",
      "TS:    4, OI: 11, t: 9.989E-03, dt: 3.217E-03, |v|:56.8864, |T|: 0.5007, |Nu_t/b|: 2.0448/ 2.1557, VC:    1 --   2.638s\n",
      "TS:    5, OI:  7, t: 1.198E-02, dt: 1.986E-03, |v|:68.9396, |T|: 0.5008, |Nu_t/b|: 2.9283/ 2.9978, VC:    1 --   1.301s\n",
      "TS:    6, OI:  6, t: 1.364E-02, dt: 1.669E-03, |v|:74.8665, |T|: 0.5009, |Nu_t/b|: 3.9104/ 3.9062, VC:    1 --   1.615s\n",
      "TS:    7, OI:  7, t: 1.564E-02, dt: 2.000E-03, |v|:75.1621, |T|: 0.5008, |Nu_t/b|: 5.1822/ 5.0763, VC:    1 --   1.189s\n",
      "TS:    8, OI: 11, t: 1.928E-02, dt: 3.640E-03, |v|:64.0975, |T|: 0.5003, |Nu_t/b|: 6.7320/ 6.5489, VC:    1 --   2.322s\n",
      "TS:    9, OI: 10, t: 2.172E-02, dt: 2.436E-03, |v|:53.6990, |T|: 0.4999, |Nu_t/b|: 7.0215/ 6.8688, VC:    1 --   1.672s\n",
      "TS:   10, OI:  8, t: 2.370E-02, dt: 1.976E-03, |v|:45.8312, |T|: 0.4997, |Nu_t/b|: 6.8762/ 6.7744, VC:    1 --   1.471s\n",
      "TS:   11, OI:  8, t: 2.573E-02, dt: 2.035E-03, |v|:39.2390, |T|: 0.4996, |Nu_t/b|: 6.5141/ 6.4655, VC:    1 --   1.778s\n",
      "TS:   12, OI:  7, t: 2.802E-02, dt: 2.292E-03, |v|:33.7841, |T|: 0.4995, |Nu_t/b|: 6.0099/ 6.0065, VC:    1 --   1.226s\n",
      "TS:   13, OI:  7, t: 3.063E-02, dt: 2.603E-03, |v|:29.7333, |T|: 0.4995, |Nu_t/b|: 5.4449/ 5.4707, VC:    1 --   1.060s\n",
      "TS:   14, OI:  6, t: 3.377E-02, dt: 3.147E-03, |v|:27.1602, |T|: 0.4996, |Nu_t/b|: 4.8606/ 4.8979, VC:    1 --   1.044s\n",
      "TS:   15, OI:  6, t: 3.799E-02, dt: 4.212E-03, |v|:26.6695, |T|: 0.4997, |Nu_t/b|: 4.2864/ 4.3172, VC:    1 --   0.931s\n",
      "TS:   16, OI:  8, t: 4.596E-02, dt: 7.976E-03, |v|:32.5664, |T|: 0.4998, |Nu_t/b|: 3.8204/ 3.8209, VC:    1 --   1.658s\n",
      "TS:   17, OI:  8, t: 5.121E-02, dt: 5.248E-03, |v|:39.7270, |T|: 0.4998, |Nu_t/b|: 3.9441/ 3.9302, VC:    1 --   1.332s\n",
      "TS:   18, OI:  7, t: 5.501E-02, dt: 3.798E-03, |v|:44.9787, |T|: 0.4998, |Nu_t/b|: 4.2289/ 4.2149, VC:    1 --   1.240s\n",
      "TS:   19, OI:  5, t: 5.851E-02, dt: 3.504E-03, |v|:48.4634, |T|: 0.4997, |Nu_t/b|: 4.5866/ 4.5810, VC:    1 --   0.832s\n",
      "TS:   20, OI:  6, t: 6.260E-02, dt: 4.088E-03, |v|:49.8252, |T|: 0.4997, |Nu_t/b|: 4.9974/ 5.0042, VC:    1 --   0.915s\n",
      "TS:   21, OI:  8, t: 6.955E-02, dt: 6.954E-03, |v|:47.2900, |T|: 0.4998, |Nu_t/b|: 5.3662/ 5.3800, VC:    1 --   1.748s\n",
      "TS:   22, OI:  8, t: 7.578E-02, dt: 6.226E-03, |v|:43.3840, |T|: 0.4998, |Nu_t/b|: 5.3281/ 5.3362, VC:    1 --   1.382s\n",
      "TS:   23, OI:  7, t: 8.100E-02, dt: 5.226E-03, |v|:40.7818, |T|: 0.4999, |Nu_t/b|: 5.1350/ 5.1369, VC:    1 --   1.060s\n",
      "TS:   24, OI:  6, t: 8.682E-02, dt: 5.820E-03, |v|:39.5445, |T|: 0.4999, |Nu_t/b|: 4.8989/ 4.8979, VC:    1 --   1.049s\n",
      "TS:   25, OI:  6, t: 9.581E-02, dt: 8.989E-03, |v|:40.4916, |T|: 0.4999, |Nu_t/b|: 4.7067/ 4.7073, VC:    1 --   0.899s\n",
      "Write snapshot\n",
      "TS:   26, OI:  7, t: 1.058E-01, dt: 1.000E-02, |v|:42.8550, |T|: 0.4999, |Nu_t/b|: 4.7505/ 4.7532, VC:    1 --   1.650s\n",
      "TS:   27, OI:  7, t: 1.144E-01, dt: 8.541E-03, |v|:44.0376, |T|: 0.4999, |Nu_t/b|: 4.8856/ 4.8879, VC:    1 --   1.471s\n",
      "TS:   28, OI:  7, t: 1.244E-01, dt: 1.000E-02, |v|:43.8314, |T|: 0.4999, |Nu_t/b|: 4.9893/ 4.9903, VC:    1 --   1.425s\n",
      "TS:   29, OI:  7, t: 1.344E-01, dt: 1.000E-02, |v|:42.9251, |T|: 0.4999, |Nu_t/b|: 4.9872/ 4.9877, VC:    1 --   1.673s\n",
      "TS:   30, OI:  7, t: 1.444E-01, dt: 1.000E-02, |v|:42.3439, |T|: 0.4999, |Nu_t/b|: 4.9327/ 4.9334, VC:    1 --   1.235s\n",
      "TS:   31, OI:  6, t: 1.544E-01, dt: 1.000E-02, |v|:42.3697, |T|: 0.5000, |Nu_t/b|: 4.8919/ 4.8928, VC:    1 --   1.845s\n",
      "TS:   32, OI:  7, t: 1.644E-01, dt: 1.000E-02, |v|:42.7008, |T|: 0.5000, |Nu_t/b|: 4.8890/ 4.8897, VC:    1 --   1.459s\n",
      "TS:   33, OI:  6, t: 1.744E-01, dt: 1.000E-02, |v|:42.9461, |T|: 0.5000, |Nu_t/b|: 4.9084/ 4.9089, VC:    1 --   1.413s\n",
      "TS:   34, OI:  5, t: 1.844E-01, dt: 1.000E-02, |v|:42.9615, |T|: 0.5000, |Nu_t/b|: 4.9251/ 4.9255, VC:    1 --   1.038s\n",
      "TS:   35, OI:  6, t: 1.944E-01, dt: 1.000E-02, |v|:42.8445, |T|: 0.5000, |Nu_t/b|: 4.9278/ 4.9282, VC:    1 --   1.254s\n",
      "TS:   36, OI:  6, t: 2.044E-01, dt: 1.000E-02, |v|:42.7456, |T|: 0.5000, |Nu_t/b|: 4.9212/ 4.9215, VC:    1 --   1.413s\n",
      "TS:   37, OI:  4, t: 2.144E-01, dt: 1.000E-02, |v|:42.7303, |T|: 0.5000, |Nu_t/b|: 4.9147/ 4.9149, VC:    1 --   0.684s\n",
      "TS:   38, OI:  6, t: 2.244E-01, dt: 1.000E-02, |v|:42.7707, |T|: 0.5000, |Nu_t/b|: 4.9131/ 4.9133, VC:    1 --   1.387s\n",
      "TS:   39, OI:  6, t: 2.344E-01, dt: 1.000E-02, |v|:42.8101, |T|: 0.5000, |Nu_t/b|: 4.9153/ 4.9155, VC:    1 --   0.904s\n",
      "TS:   40, OI:  4, t: 2.444E-01, dt: 1.000E-02, |v|:42.8196, |T|: 0.5000, |Nu_t/b|: 4.9179/ 4.9180, VC:    1 --   0.614s\n",
      "TS:   41, OI:  5, t: 2.544E-01, dt: 1.000E-02, |v|:42.8060, |T|: 0.5000, |Nu_t/b|: 4.9187/ 4.9189, VC:    1 --   1.312s\n",
      "TS:   42, OI:  5, t: 2.644E-01, dt: 1.000E-02, |v|:42.7905, |T|: 0.5000, |Nu_t/b|: 4.9180/ 4.9181, VC:    1 --   0.780s\n",
      "TS:   43, OI:  4, t: 2.744E-01, dt: 1.000E-02, |v|:42.7856, |T|: 0.5000, |Nu_t/b|: 4.9170/ 4.9171, VC:    1 --   0.614s\n",
      "TS:   44, OI:  5, t: 2.844E-01, dt: 1.000E-02, |v|:42.7900, |T|: 0.5000, |Nu_t/b|: 4.9167/ 4.9167, VC:    1 --   0.948s\n",
      "TS:   45, OI:  5, t: 2.944E-01, dt: 1.000E-02, |v|:42.7960, |T|: 0.5000, |Nu_t/b|: 4.9169/ 4.9169, VC:    1 --   0.762s\n",
      "TS:   46, OI:  4, t: 3.044E-01, dt: 1.000E-02, |v|:42.7983, |T|: 0.5000, |Nu_t/b|: 4.9173/ 4.9173, VC:    1 --   1.194s\n",
      "Simulation ended after 0:01:02.463926 h:min:sec\n"
     ]
    }
   ],
   "execution_count": 4
  },
  {
   "cell_type": "markdown",
   "metadata": {},
   "source": [
    "## Create an animated gif of snapshot plots\n",
    "\n",
    "dataoutput is either the output from the cells above, or in case that the simulation was run in the past, the name of the folder in which simulation files are stored can be assigned to dataoutput (e.g. \"Test/Ra10000_128x32\")"
   ]
  },
  {
   "cell_type": "code",
   "metadata": {
    "ExecuteTime": {
     "end_time": "2025-08-08T13:07:32.404877Z",
     "start_time": "2025-08-08T13:07:31.768402Z"
    }
   },
   "source": [
    "# Create animated gif:\n",
    "# Adapted from https://pythonprogramming.altervista.org/png-to-gif/\n",
    "\n",
    "from PIL import Image\n",
    "import glob\n",
    "\n",
    "dataoutput = data.output\n",
    "\n",
    "# Create the frames\n",
    "frames = []\n",
    "imgs = glob.glob(dataoutput+\"/*.png\")\n",
    "count = 0\n",
    "limit = 1 #10\n",
    "for i in imgs:\n",
    "  if count%limit==0:\n",
    "    new_frame = Image.open(i)\n",
    "    frames.append(new_frame)\n",
    "  count += 1\n",
    "\n",
    "# Save into a GIF file that loops forever\n",
    "frames[0].save(dataoutput+'/animation.gif', format='GIF',\n",
    "               append_images=frames[1:],\n",
    "               save_all=True,\n",
    "               duration=300, loop=0)"
   ],
   "outputs": [],
   "execution_count": 5
  },
  {
   "metadata": {},
   "cell_type": "markdown",
   "source": "## Plot atmosphere evolution (if melting and outgassing is turned on)"
  },
  {
   "cell_type": "code",
   "metadata": {
    "ExecuteTime": {
     "end_time": "2025-08-08T13:07:32.416507Z",
     "start_time": "2025-08-08T13:07:32.409860Z"
    }
   },
   "source": [
    "if data.Tsol0>0:\n",
    "    #############################\n",
    "    # Plot atmosphere over time #\n",
    "    #############################\n",
    "\n",
    "    fig,ax = plt.subplots(2,1,figsize=(10,5))\n",
    "\n",
    "    ax[0].plot(data.time,np.array(data.M_atm),'k',lw=2,label=\"All\")\n",
    "    ax[0].plot(data.time,np.array(data.M_H2O),'b',label=\"H2O\")\n",
    "    ax[0].plot(data.time,np.array(data.M_H2),'--g',label=\"H2\")\n",
    "    ax[0].plot(data.time,np.array(data.M_CO2),'r',label=\"CO2\")\n",
    "    ax[0].plot(data.time,np.array(data.M_CO),'--y',label=\"CO\")\n",
    "    ax[0].legend()\n",
    "    ax[0].set_xlabel(\"Time\")\n",
    "    ax[0].set_ylabel(\"Atmosphere in kg\")\n",
    "\n",
    "    ptot = np.array(data.M_atm)*data.grav/(4*np.pi*data.Rp**2)*1e-5\n",
    "    ax[1].plot(data.time,ptot,c='k',lw=2)\n",
    "    ax[1].set_xlabel(\"Time\")\n",
    "    ax[1].set_ylabel(\"Pressure in bar\")\n",
    "\n",
    "    plt.tight_layout()\n",
    "\n",
    "    if data.saveplot:\n",
    "      plt.savefig(data.output+'/plot_atm.png', dpi=100, transparent=False)\n",
    "    if data.showplot:\n",
    "      plt.show()\n"
   ],
   "outputs": [],
   "execution_count": 6
  },
  {
   "cell_type": "code",
   "metadata": {
    "ExecuteTime": {
     "end_time": "2025-08-08T13:07:32.433046Z",
     "start_time": "2025-08-08T13:07:32.429047Z"
    }
   },
   "source": [],
   "outputs": [],
   "execution_count": null
  }
 ],
 "metadata": {
  "colab": {
   "authorship_tag": "ABX9TyMXw2Yz4QBAxHICeqSbZzuf",
   "collapsed_sections": [
    "BFgsOgaKFzTj"
   ],
   "mount_file_id": "1iz-rqmdhlczsyfABkXSfHt6AL9jfnaWI",
   "provenance": []
  },
  "kernelspec": {
   "display_name": "Python 3 (ipykernel)",
   "language": "python",
   "name": "python3"
  },
  "language_info": {
   "codemirror_mode": {
    "name": "ipython",
    "version": 3
   },
   "file_extension": ".py",
   "mimetype": "text/x-python",
   "name": "python",
   "nbconvert_exporter": "python",
   "pygments_lexer": "ipython3",
   "version": "3.12.7"
  }
 },
 "nbformat": 4,
 "nbformat_minor": 4
}
